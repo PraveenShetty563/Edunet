{
 "cells": [
  {
   "cell_type": "code",
   "execution_count": 1,
   "id": "f1b8e011",
   "metadata": {},
   "outputs": [
    {
     "name": "stdout",
     "output_type": "stream",
     "text": [
      "hello world\n"
     ]
    }
   ],
   "source": [
    "print(\"hello world\")"
   ]
  },
  {
   "cell_type": "code",
   "execution_count": 1,
   "id": "7a721a8a",
   "metadata": {},
   "outputs": [
    {
     "data": {
      "text/plain": [
       "5"
      ]
     },
     "execution_count": 1,
     "metadata": {},
     "output_type": "execute_result"
    }
   ],
   "source": [
    "shetty=5\n",
    "shetty"
   ]
  },
  {
   "cell_type": "code",
   "execution_count": 2,
   "id": "5da0abb1",
   "metadata": {},
   "outputs": [
    {
     "data": {
      "text/plain": [
       "10"
      ]
     },
     "execution_count": 2,
     "metadata": {},
     "output_type": "execute_result"
    }
   ],
   "source": [
    "a=5*2\n",
    "a"
   ]
  },
  {
   "cell_type": "code",
   "execution_count": 3,
   "id": "74a50dac",
   "metadata": {},
   "outputs": [
    {
     "data": {
      "text/plain": [
       "34"
      ]
     },
     "execution_count": 3,
     "metadata": {},
     "output_type": "execute_result"
    }
   ],
   "source": [
    "s24shetty=34\n",
    "s24shetty"
   ]
  },
  {
   "cell_type": "code",
   "execution_count": 5,
   "id": "7f937b1f",
   "metadata": {},
   "outputs": [
    {
     "name": "stdout",
     "output_type": "stream",
     "text": [
      "3024\n",
      "110\n"
     ]
    }
   ],
   "source": [
    "x=54\n",
    "y=56\n",
    "z=x*y\n",
    "print(z)\n",
    "print(x+y)"
   ]
  },
  {
   "cell_type": "code",
   "execution_count": 6,
   "id": "b8eff830",
   "metadata": {},
   "outputs": [
    {
     "name": "stdout",
     "output_type": "stream",
     "text": [
      "9\n"
     ]
    }
   ],
   "source": [
    "abhi=5\n",
    "hanu=4\n",
    "halu=abhi+hanu\n",
    "print(halu)"
   ]
  },
  {
   "cell_type": "code",
   "execution_count": 1,
   "id": "bca31baa",
   "metadata": {},
   "outputs": [
    {
     "name": "stdout",
     "output_type": "stream",
     "text": [
      "enter the value 23\n",
      "enter the value 46.6\n",
      "69.6\n"
     ]
    }
   ],
   "source": [
    "x=int(input(\"enter the value \"))\n",
    "y=float(input(\"enter the value \"))\n",
    "\n",
    "z=x+y\n",
    "print(z)"
   ]
  },
  {
   "cell_type": "code",
   "execution_count": 2,
   "id": "67e08b21",
   "metadata": {},
   "outputs": [
    {
     "data": {
      "text/plain": [
       "float"
      ]
     },
     "execution_count": 2,
     "metadata": {},
     "output_type": "execute_result"
    }
   ],
   "source": [
    "type(y)"
   ]
  },
  {
   "cell_type": "code",
   "execution_count": 9,
   "id": "9ceca89e",
   "metadata": {},
   "outputs": [
    {
     "name": "stdout",
     "output_type": "stream",
     "text": [
      "enter the value 23\n"
     ]
    }
   ],
   "source": [
    "x=int(input(\"enter the value \"))"
   ]
  },
  {
   "cell_type": "code",
   "execution_count": 10,
   "id": "a6cb06f3",
   "metadata": {},
   "outputs": [
    {
     "data": {
      "text/plain": [
       "23"
      ]
     },
     "execution_count": 10,
     "metadata": {},
     "output_type": "execute_result"
    }
   ],
   "source": [
    "x"
   ]
  },
  {
   "cell_type": "code",
   "execution_count": 11,
   "id": "53c45478",
   "metadata": {},
   "outputs": [
    {
     "data": {
      "text/plain": [
       "int"
      ]
     },
     "execution_count": 11,
     "metadata": {},
     "output_type": "execute_result"
    }
   ],
   "source": [
    "type(x)"
   ]
  },
  {
   "cell_type": "code",
   "execution_count": 3,
   "id": "1e75dc93",
   "metadata": {},
   "outputs": [
    {
     "name": "stdout",
     "output_type": "stream",
     "text": [
      "enter the value 23\n"
     ]
    }
   ],
   "source": [
    "y=(input(\"enter the value \"))"
   ]
  },
  {
   "cell_type": "code",
   "execution_count": 4,
   "id": "99cd6920",
   "metadata": {},
   "outputs": [
    {
     "data": {
      "text/plain": [
       "str"
      ]
     },
     "execution_count": 4,
     "metadata": {},
     "output_type": "execute_result"
    }
   ],
   "source": [
    "type(y)"
   ]
  },
  {
   "cell_type": "code",
   "execution_count": 6,
   "id": "707c7a61",
   "metadata": {
    "collapsed": true
   },
   "outputs": [
    {
     "ename": "SyntaxError",
     "evalue": "invalid syntax (1925677109.py, line 1)",
     "output_type": "error",
     "traceback": [
      "\u001b[1;36m  Input \u001b[1;32mIn [6]\u001b[1;36m\u001b[0m\n\u001b[1;33m    //day1//\u001b[0m\n\u001b[1;37m    ^\u001b[0m\n\u001b[1;31mSyntaxError\u001b[0m\u001b[1;31m:\u001b[0m invalid syntax\n"
     ]
    }
   ],
   "source": [
    "//day1//"
   ]
  },
  {
   "cell_type": "code",
   "execution_count": 8,
   "id": "e93df820",
   "metadata": {},
   "outputs": [
    {
     "name": "stdout",
     "output_type": "stream",
     "text": [
      "190000\n"
     ]
    }
   ],
   "source": [
    "profit_a1=60000\n",
    "profit_a2=70000\n",
    "profit_a3=40000\n",
    "profit_a4=20000\n",
    "total_profit=profit_a1+profit_a2+profit_a3+profit_a4\n",
    "print(total_profit)"
   ]
  },
  {
   "cell_type": "code",
   "execution_count": 10,
   "id": "7c437d32",
   "metadata": {},
   "outputs": [
    {
     "name": "stdout",
     "output_type": "stream",
     "text": [
      "False\n"
     ]
    }
   ],
   "source": [
    "password = \"Secure\"\n",
    "is_valid_length = len(password) >= 8\n",
    "print(is_valid_length)"
   ]
  },
  {
   "cell_type": "code",
   "execution_count": 3,
   "id": "c01bb264",
   "metadata": {},
   "outputs": [
    {
     "name": "stdout",
     "output_type": "stream",
     "text": [
      "total members in the house 5\n",
      "some members are missed 3\n",
      "after the flood total members in the house 2\n",
      "missed members are arrived\n",
      "some members are coming with them 23\n",
      "total members are  28\n"
     ]
    }
   ],
   "source": [
    "totalmember=int(input(\"total members in the house \"))\n",
    "a=int(input(\"some members are missed \"))\n",
    "y=totalmember-a\n",
    "print(\"after the flood total members in the house\",y)\n",
    "print(\"missed members are arrived\")\n",
    "b=int(input(\"some members are coming with them \"))\n",
    "z=y+a+b\n",
    "print(\"total members are \",z)"
   ]
  },
  {
   "cell_type": "code",
   "execution_count": 6,
   "id": "046720db",
   "metadata": {},
   "outputs": [
    {
     "name": "stdout",
     "output_type": "stream",
     "text": [
      "360\n",
      "140\n"
     ]
    }
   ],
   "source": [
    "a=45\n",
    "students=8\n",
    "amount=students*a\n",
    "print(amount)\n",
    "totalpaid=500\n",
    "remain=totalpaid-amount\n",
    "print(remain)"
   ]
  },
  {
   "cell_type": "code",
   "execution_count": 20,
   "id": "dd51d3ec",
   "metadata": {},
   "outputs": [
    {
     "ename": "TypeError",
     "evalue": "'<=' not supported between instances of 'tuple' and 'int'",
     "output_type": "error",
     "traceback": [
      "\u001b[1;31m---------------------------------------------------------------------------\u001b[0m",
      "\u001b[1;31mTypeError\u001b[0m                                 Traceback (most recent call last)",
      "Input \u001b[1;32mIn [20]\u001b[0m, in \u001b[0;36m<cell line: 5>\u001b[1;34m()\u001b[0m\n\u001b[0;32m      3\u001b[0m temp2\u001b[38;5;241m=\u001b[39m\u001b[38;5;241m16\u001b[39m\n\u001b[0;32m      4\u001b[0m temp\u001b[38;5;241m=\u001b[39m(temp1\u001b[38;5;241m+\u001b[39mtemp2)\u001b[38;5;241m/\u001b[39m\u001b[38;5;241m2\u001b[39m\n\u001b[1;32m----> 5\u001b[0m \u001b[38;5;28;01mif\u001b[39;00m (\u001b[43mi\u001b[49m\u001b[38;5;241;43m<\u001b[39;49m\u001b[38;5;241;43m=\u001b[39;49m\u001b[38;5;241;43m2\u001b[39;49m):\n\u001b[0;32m      6\u001b[0m     \u001b[38;5;28mprint\u001b[39m(temp1)\n\u001b[0;32m      7\u001b[0m \u001b[38;5;28;01melse\u001b[39;00m:\n",
      "\u001b[1;31mTypeError\u001b[0m: '<=' not supported between instances of 'tuple' and 'int'"
     ]
    }
   ],
   "source": [
    "i=1\n",
    "temp1=20\n",
    "temp2=16\n",
    "temp=(temp1+temp2)/2\n",
    "if (i<=1):\n",
    "    print(temp1)\n",
    "else:\n",
    "    (i >= 1)\n",
    "    print(temp)"
   ]
  },
  {
   "cell_type": "code",
   "execution_count": 11,
   "id": "7016df01",
   "metadata": {},
   "outputs": [
    {
     "data": {
      "text/plain": [
       "'y'"
      ]
     },
     "execution_count": 11,
     "metadata": {},
     "output_type": "execute_result"
    }
   ],
   "source": [
    "name=\"shetty\"\n",
    "name[-1]"
   ]
  },
  {
   "cell_type": "code",
   "execution_count": 12,
   "id": "f899466a",
   "metadata": {},
   "outputs": [
    {
     "data": {
      "text/plain": [
       "'sh'"
      ]
     },
     "execution_count": 12,
     "metadata": {},
     "output_type": "execute_result"
    }
   ],
   "source": [
    "name[0:2]"
   ]
  },
  {
   "cell_type": "code",
   "execution_count": 21,
   "id": "775b8c4e",
   "metadata": {},
   "outputs": [
    {
     "data": {
      "text/plain": [
       "''"
      ]
     },
     "execution_count": 21,
     "metadata": {},
     "output_type": "execute_result"
    }
   ],
   "source": [
    "name[-1:-3]"
   ]
  },
  {
   "cell_type": "code",
   "execution_count": 24,
   "id": "73742716",
   "metadata": {},
   "outputs": [
    {
     "data": {
      "text/plain": [
       "'in Edunet foundation'"
      ]
     },
     "execution_count": 24,
     "metadata": {},
     "output_type": "execute_result"
    }
   ],
   "source": [
    "name=\"wellcome to all we are sesion in Edunet foundation we are learnin AI\"\n",
    "name[30:50]"
   ]
  },
  {
   "cell_type": "code",
   "execution_count": 28,
   "id": "ce4bcb76",
   "metadata": {},
   "outputs": [
    {
     "name": "stdout",
     "output_type": "stream",
     "text": [
      "Edunet\n",
      "Foundation\n"
     ]
    }
   ],
   "source": [
    "full_name=\"Edunet Foundation\"\n",
    "print(full_name[0:6])\n",
    "print(full_name[7:17])"
   ]
  },
  {
   "cell_type": "code",
   "execution_count": 34,
   "id": "552fd604",
   "metadata": {},
   "outputs": [
    {
     "name": "stdout",
     "output_type": "stream",
     "text": [
      "Data Science is amazing!\n"
     ]
    }
   ],
   "source": [
    "x=\"Data Science is awesome!\"\n",
    "new_x=x.replace(\"awesome\",\"amazing\")\n",
    "print(new_x)"
   ]
  },
  {
   "cell_type": "code",
   "execution_count": 7,
   "id": "167d5dae",
   "metadata": {},
   "outputs": [],
   "source": [
    "a=[1,20,21.22,\"hello\"]"
   ]
  },
  {
   "cell_type": "code",
   "execution_count": 8,
   "id": "3b337beb",
   "metadata": {},
   "outputs": [
    {
     "data": {
      "text/plain": [
       "[1, 20, 21.22, 'hello']"
      ]
     },
     "execution_count": 8,
     "metadata": {},
     "output_type": "execute_result"
    }
   ],
   "source": [
    "a"
   ]
  },
  {
   "cell_type": "code",
   "execution_count": 9,
   "id": "83be9f98",
   "metadata": {},
   "outputs": [
    {
     "data": {
      "text/plain": [
       "list"
      ]
     },
     "execution_count": 9,
     "metadata": {},
     "output_type": "execute_result"
    }
   ],
   "source": [
    "type(a)"
   ]
  },
  {
   "cell_type": "code",
   "execution_count": 10,
   "id": "b02b079b",
   "metadata": {},
   "outputs": [
    {
     "name": "stdout",
     "output_type": "stream",
     "text": [
      "3\n"
     ]
    }
   ],
   "source": [
    "b=[10,12,29,24,26,56,10,10]\n",
    "count=b.count(10)\n",
    "print(count)"
   ]
  },
  {
   "cell_type": "code",
   "execution_count": 11,
   "id": "60a171a1",
   "metadata": {},
   "outputs": [],
   "source": [
    "name=[\"deepak\",\"yadav\",\"shakshi\",\"hanu\",\"yadav\",\"raja\",\"yadav\"]"
   ]
  },
  {
   "cell_type": "code",
   "execution_count": 17,
   "id": "5a66fc85",
   "metadata": {},
   "outputs": [
    {
     "name": "stdout",
     "output_type": "stream",
     "text": [
      "deepak\n",
      "yadav\n",
      "shakshi\n",
      "hanu\n",
      "yadav\n",
      "raja\n",
      "yadav\n"
     ]
    }
   ],
   "source": [
    "x=0\n",
    "for i in name:\n",
    "    print(i)"
   ]
  },
  {
   "cell_type": "code",
   "execution_count": 18,
   "id": "43c5171a",
   "metadata": {},
   "outputs": [
    {
     "name": "stdout",
     "output_type": "stream",
     "text": [
      "3\n"
     ]
    }
   ],
   "source": [
    "x=0\n",
    "for i in name:\n",
    "    if i==\"yadav\":\n",
    "        x=x+1\n",
    "\n",
    "print(x)"
   ]
  },
  {
   "cell_type": "markdown",
   "id": "6ffb465c",
   "metadata": {},
   "source": [
    "# DAY2 #"
   ]
  },
  {
   "cell_type": "code",
   "execution_count": 21,
   "id": "6a684897",
   "metadata": {},
   "outputs": [
    {
     "data": {
      "text/plain": [
       "tuple"
      ]
     },
     "execution_count": 21,
     "metadata": {},
     "output_type": "execute_result"
    }
   ],
   "source": [
    "name=(\"lala\",30.0,\"chintu\",\"raju\",40.00)\n",
    "type(name)"
   ]
  },
  {
   "cell_type": "code",
   "execution_count": 29,
   "id": "a8a798a5",
   "metadata": {},
   "outputs": [
    {
     "name": "stdout",
     "output_type": "stream",
     "text": [
      "10\n",
      "23\n",
      "22\n",
      "24\n",
      "38\n",
      "36\n",
      "34\n"
     ]
    }
   ],
   "source": [
    "a=(10,23,22,24,38,36,34)\n",
    "i=0\n",
    "for i in a:\n",
    "    if i==a:\n",
    "        x=x+1\n",
    "    print(i)"
   ]
  },
  {
   "cell_type": "code",
   "execution_count": 30,
   "id": "1046c73c",
   "metadata": {},
   "outputs": [
    {
     "name": "stdout",
     "output_type": "stream",
     "text": [
      "[10, 22, 23, 24, 34, 36, 38]\n"
     ]
    }
   ],
   "source": [
    "sorted_a=sorted(a)\n",
    "print(sorted_a)"
   ]
  },
  {
   "cell_type": "code",
   "execution_count": 38,
   "id": "a86de925",
   "metadata": {
    "scrolled": true
   },
   "outputs": [
    {
     "name": "stdout",
     "output_type": "stream",
     "text": [
      "1\n"
     ]
    }
   ],
   "source": [
    "name=(10,23,22,24,38,36,34,1)\n",
    "smallest=name[0]\n",
    "for i in name:\n",
    "    if i<smallest:\n",
    "        smallest=i\n",
    "print(smallest)"
   ]
  },
  {
   "cell_type": "code",
   "execution_count": 43,
   "id": "fa712091",
   "metadata": {},
   "outputs": [
    {
     "name": "stdout",
     "output_type": "stream",
     "text": [
      "9\n"
     ]
    }
   ],
   "source": [
    "name=(1,2,3,4,5,5,6,7,8,9)\n",
    "biggest=name[0]\n",
    "for i in name:\n",
    "    if i>biggest:\n",
    "        biggest=i\n",
    "print(biggest)"
   ]
  },
  {
   "cell_type": "code",
   "execution_count": null,
   "id": "6b7595f9",
   "metadata": {},
   "outputs": [],
   "source": []
  },
  {
   "cell_type": "code",
   "execution_count": null,
   "id": "5d61c2de",
   "metadata": {},
   "outputs": [],
   "source": []
  },
  {
   "cell_type": "code",
   "execution_count": null,
   "id": "ede80e4d",
   "metadata": {},
   "outputs": [],
   "source": []
  },
  {
   "cell_type": "code",
   "execution_count": null,
   "id": "3482e8cf",
   "metadata": {},
   "outputs": [],
   "source": []
  },
  {
   "cell_type": "code",
   "execution_count": null,
   "id": "8b8274b4",
   "metadata": {},
   "outputs": [],
   "source": []
  }
 ],
 "metadata": {
  "kernelspec": {
   "display_name": "Python 3 (ipykernel)",
   "language": "python",
   "name": "python3"
  },
  "language_info": {
   "codemirror_mode": {
    "name": "ipython",
    "version": 3
   },
   "file_extension": ".py",
   "mimetype": "text/x-python",
   "name": "python",
   "nbconvert_exporter": "python",
   "pygments_lexer": "ipython3",
   "version": "3.9.12"
  }
 },
 "nbformat": 4,
 "nbformat_minor": 5
}
